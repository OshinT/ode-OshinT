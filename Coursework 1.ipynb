{
 "cells": [
  {
   "cell_type": "markdown",
   "id": "5cce7369",
   "metadata": {},
   "source": [
    "\n",
    "# MTHM008 Project 1 \n",
    "\n",
    "700024338\n",
    "\n",
    "## Introduction\n",
    "This project investigates two systems of ordainary differential equations (ODE) (Lotka-Volterra predator-prey model and Lorenz's 1963 system). Exact solutions of dynamical ODE's are dificult to solve, however, by using mathematical models, we can easily alter parameters and conditions in order to visualise the behaviour of such systems and understand the implications of numerical solutions.\n",
    "\n",
    "The first system looks at the popular predator-prey model. In the early 1900's, Lokta and Volterra independently considered the simplified two species interaction and concluded the populations would theoretically oscillate[]. The system ignores aspects such as disease or competition so each species would control the population of the other in a cyclical manner. From approximately 50 years of detailed records of pelt by the Hudson’s Bay Company, the abundance of snowshoe hares and Canadian lynx showed nearly periodic oscillation. With the assumption that wild numbers were proportional to trapped amounts, here we use the Lokta-Volterra equations to mathematically model this data and conduct numerical analysis to examine the systems stability.\n",
    "\n",
    "## - Lotka-Volterra Model\n",
    "###  2 Species Model\n",
    "\\begin{align*}\n",
    "\\frac{\\mathrm{d} H}{\\mathrm{d} t} &= \\alpha H - \\beta H L \\; ,\\\\\n",
    "\\frac{\\mathrm{d} L}{\\mathrm{d} t} &= \\delta H L - \\gamma L \\; ,\n",
    "\\end{align*}\n",
    "where $H$ and $L$ represent the number of hare and lynx respectively, and $\\alpha$, $\\beta$, $\\gamma$ and $\\delta$ are positive real parameters.\n"
   ]
  },
  {
   "cell_type": "code",
   "execution_count": null,
   "id": "051d4a17",
   "metadata": {},
   "outputs": [],
   "source": []
  },
  {
   "cell_type": "markdown",
   "id": "e8a0c9d4",
   "metadata": {},
   "source": [
    "### Finding Equilibrium Points and Analysing System's Stability \n",
    "Equilibrium points are steady states that are a constant solution to an ODE. We will find $P_{0}$ and determine whether the eqilibrium point is stable by finding eigenvalues of the Jacobian Matrix. \n",
    " - Finding Equilibrium points\\\n",
    " \\\n",
    "Let's set our system of ODE as:\n",
    "\\\n",
    "\\begin{align*}\n",
    "\\frac{\\mathrm{d} H}{\\mathrm{d} t} &= \\alpha H - \\beta H L\\ &= F(H,L) \\; ,\\\\\n",
    "\\frac{\\mathrm{d} L}{\\mathrm{d} t} &= \\delta H L - \\gamma L\\ &= G(H,L) \\; ,\n",
    "\\end{align*}\n",
    "\\\n",
    "From this, an equilibrium point is a point $P_{0}$ $=$ ($H_{0}$ ,$L_{0}$) for which:\\\n",
    "\\\n",
    "\\begin{align*}\n",
    "F (H_{0} ,L_{0}) = 0\\;,\\\\\n",
    "G (H_{0} ,L_{0}) = 0\\;,\n",
    "\\end{align*}\n",
    "\\\n",
    "An explicit solution is $P_{0,1}$ $=$ $(0,0)$\\\n",
    "Rearranging $F $ and $G$, we can find our second solution by making the values within the brackets $=0$:\n",
    "\\\n",
    "\\begin{align*}\n",
    "H(\\alpha - \\beta L) = 0 \\rightarrow \\alpha - \\beta L = 0\\;,\\\\\n",
    "L(\\delta H - \\gamma) = 0 \\rightarrow \\delta H - \\gamma = 0 \\;,\n",
    "\\end{align*}\n",
    "\\\n",
    "Hence, $P_{0,2}$ = $(\\frac{\\gamma}{\\delta},\\frac{\\alpha}{\\beta})$ is also a solution.\n",
    "\n",
    " - Test the local stability at each fixed point\\\n",
    " \\\n",
    "We set our perturbed points to be: H(t) = $H_{0}$ + $\\theta$ and L(t) = $L_{0}$ + $\\phi$, where $\\theta$ and $\\phi$ are small perturbations from the fixed point. Taylor expanding F and G about these points, we have:\n",
    "\\\n",
    "\\begin{align*}\n",
    "\\frac{\\partial \\theta}{\\partial t} &= F(H_{0} + \\theta,L_{0} + \\phi) ,\\\\\n",
    "&= F(H_{0} ,L_{0}) + \\theta \\displaystyle \\Bigg[ \\frac{\\partial F}{\\partial H}\\Bigg]_{(H_{0} ,L_{0})} + \\phi \\displaystyle \\Bigg[ \\frac{\\partial F}{\\partial L}\\Bigg]_{(H_{0} ,L_{0})} + ... \\; ,\\\\\n",
    "&= \\theta \\displaystyle \\Bigg[ \\frac{\\partial F}{\\partial H}\\Bigg]_{(H_{0} ,L_{0})} + \\phi \\displaystyle \\Bigg[ \\frac{\\partial F}{\\partial L}\\Bigg]_{(H_{0} ,L_{0})} + ...\n",
    "\\\\\n",
    "\\\\\n",
    "\\frac{\\partial \\phi}{\\partial t} &= G(H_{0} + \\theta,L_{0} + \\phi),\\\\\n",
    "&= G(H_{0} ,L_{0}) + \\theta \\displaystyle \\Bigg[ \\frac{\\partial G}{\\partial H}\\Bigg]_{(H_{0} ,L_{0})} + \\phi \\displaystyle \\Bigg[ \\frac{\\partial G}{\\partial L}\\Bigg]_{(H_{0} ,L_{0})} + ... \\; ,\\\\\n",
    "&= \\theta \\displaystyle \\Bigg[ \\frac{\\partial G}{\\partial H}\\Bigg]_{(H_{0} ,L_{0})} + \\phi \\displaystyle \\Bigg[ \\frac{\\partial G}{\\partial L}\\Bigg]_{(H_{0} ,L_{0})} + ...\\\\\n",
    "\\\\\n",
    "\\end{align*}\n",
    "\\\n",
    "Higher-order terms in the taylor series for perturbations, $\\theta$ & $\\phi$ that are close to 0, can be neglected. This system of perturbation ODE can be written as a Jacobian Matrix, $\\boldsymbol A$ :\n",
    "\\\n",
    "\\begin{align*}\n",
    "\\boldsymbol{u} &= \\begin{bmatrix} \\theta \\\\ \\phi \\end{bmatrix} \\; ,\\\\\n",
    "\\\\\n",
    "\\frac{\\partial \\boldsymbol{u}}{\\partial t} &= \\begin{bmatrix} \\displaystyle \\Bigg( \\frac{\\partial F}{\\partial H}\\Bigg)_{(H_{0} ,L_{0})}& \\displaystyle \\Bigg( \\frac{\\partial F}{\\partial L}\\Bigg)_{(H_{0} ,L_{0})} \\\\ \\displaystyle \\Bigg( \\frac{\\partial G}{\\partial H}\\Bigg)_{(H_{0} ,L_{0})}&\\displaystyle \\Bigg( \\frac{\\partial G}{\\partial L}\\Bigg)_{(H_{0} ,L_{0})} \\end{bmatrix} \\cdot \\boldsymbol{u} \\; ,\\\\\n",
    "&= \\boldsymbol {A} \\boldsymbol{u}\\\\\n",
    "\\\\\n",
    "\\end{align*}\n",
    "\\\n",
    "Hence, by finding the partial derivatives of functions $F(H,L)$ and $G(H,L)$ , we have:\n",
    "\\begin{align*}\n",
    "\\boldsymbol {A} &= \\begin{bmatrix} \\alpha - \\beta L & - \\beta H \\\\ \\delta L & \\delta H - \\gamma \\end{bmatrix}\n",
    "\\end{align*}\n",
    "\\\n",
    "From the eigenvalue equation , $\\boldsymbol{A}$ $\\boldsymbol{x}$ = $\\lambda$ $\\boldsymbol{x}$ , eigenvalues $\\lambda$ can be evaluated at $P_{0,1}$ & $P_{0,2}$ by using the characteristic equation:\\\n",
    "\\\n",
    "\\begin{align*}\n",
    "det[\\boldsymbol{A} - \\lambda \\boldsymbol{I}] = 0 ,  \\quad \\boldsymbol{I}=\\begin{bmatrix} 1 & 0 \\\\ 0 & 1 \\end{bmatrix}\n",
    "\\end{align*} \n",
    "    - at $P_{0,1}$ $=(0,0)$:\\\n",
    "\\begin{align}\n",
    "det[\\boldsymbol{A} - \\lambda \\boldsymbol{I}] = det \\begin{bmatrix} \\alpha - \\lambda & 0 \\\\ 0 & - \\gamma - \\lambda \\end{bmatrix} \n",
    "&= (\\alpha - \\lambda) \\cdot (- \\gamma - \\lambda ) = 0 ,\\\\\n",
    "\\end{align}\n",
    "Eigenvalues $\\rightarrow  \\lambda_{1} = \\alpha , \\lambda_{2} = - \\gamma$ \n",
    "    - at $P_{0,2}$ = $(\\frac{\\gamma}{\\delta},\\frac{\\alpha}{\\beta})$:\\\n",
    "\\begin{align}\n",
    "det[\\boldsymbol{A} - \\lambda \\boldsymbol{I}] = det \\begin{bmatrix} 0 - \\lambda & - \\frac{\\beta \\gamma}{\\delta} \\\\ \\frac{\\delta \\alpha}{\\beta} & 0 - \\lambda \\end{bmatrix}\n",
    "= (- \\lambda) \\cdot ( - \\lambda ) - (- \\frac{\\beta \\gamma}{\\delta}) \\cdot (\\frac{\\delta \\alpha}{\\beta}) ,\n",
    "&= \\lambda^{2} + \\gamma \\alpha  =0\n",
    "\\end{align}  \n",
    "\\\n",
    "Eigenvalues $\\rightarrow  \\lambda_{1} = \\sqrt{\\gamma \\alpha}$ $\\boldsymbol{i}$ , $\\lambda_{2} = - \\sqrt{\\gamma \\alpha}$ $\\boldsymbol{i} $ "
   ]
  },
  {
   "cell_type": "code",
   "execution_count": null,
   "id": "1e4578e6",
   "metadata": {},
   "outputs": [],
   "source": []
  },
  {
   "cell_type": "markdown",
   "id": "744d898d",
   "metadata": {},
   "source": [
    "### Discretising the Model"
   ]
  },
  {
   "cell_type": "code",
   "execution_count": null,
   "id": "e1213542",
   "metadata": {},
   "outputs": [],
   "source": []
  },
  {
   "cell_type": "markdown",
   "id": "a374990a",
   "metadata": {},
   "source": [
    "###  3 Species Model\n",
    "\\begin{align*}\n",
    "\\frac{\\mathrm{d} H}{\\mathrm{d} t} &= \\alpha H - \\beta H L \\; ,\\\\\n",
    "\\frac{\\mathrm{d} L}{\\mathrm{d} t} &= +\\delta H L - \\gamma L - \\epsilon L W \\; ,\\\\\n",
    "\\frac{\\mathrm{d} W}{\\mathrm{d} t} &= -\\eta W + \\rho L W \\; ,\n",
    "\\end{align*}\n",
    "where $H$, $L$ and $W$ represent the number of hare, lynx and wolf respectively, and $\\alpha$, $\\beta$, $\\gamma$, $\\delta$, $\\epsilon$, $\\eta$ and $\\rho$ are positive real parameters."
   ]
  },
  {
   "cell_type": "code",
   "execution_count": null,
   "id": "ee3149ba",
   "metadata": {},
   "outputs": [],
   "source": []
  }
 ],
 "metadata": {
  "kernelspec": {
   "display_name": "Python 3",
   "language": "python",
   "name": "python3"
  },
  "language_info": {
   "codemirror_mode": {
    "name": "ipython",
    "version": 3
   },
   "file_extension": ".py",
   "mimetype": "text/x-python",
   "name": "python",
   "nbconvert_exporter": "python",
   "pygments_lexer": "ipython3",
   "version": "3.8.8"
  }
 },
 "nbformat": 4,
 "nbformat_minor": 5
}
