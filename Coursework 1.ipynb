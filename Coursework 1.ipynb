{
 "cells": [
  {
   "cell_type": "markdown",
   "id": "5cce7369",
   "metadata": {},
   "source": [
    "\n",
    "# MTHM008 Project 1 \n",
    "\n",
    "700024338\n",
    "\n",
    "## Introduction\n",
    "This project investigates two systems of ordainary differential equations (ODE) (Lotka-Volterra predator-prey model and Lorenz's 1963 system). Exact solutions of dynamical ODE's are dificult to solve, however, by using mathematical models, we can easily alter parameters and conditions in order to visualise the behaviour of such systems and understand the implications of numerical solutions.\n",
    "\n",
    "The first system looks at the popular predator-prey model. In the early 1900's, Lokta and Volterra independently considered the simplified two species interaction and concluded the populations would theoretically oscillate[]. The system ignores aspects such as disease or competition so each species would control the population of the other in a cyclical manner. From approximately 50 years of detailed records of pelt by the Hudson’s Bay Company, the abundance of snowshoe hares and Canadian lynx showed nearly periodic oscillation. With the assumption that wild numbers were proportional to trapped amounts, here we use the Lokta-Volterra equations to mathematically model this data and conduct numerical analysis to examine the systems stability.\n",
    "\n",
    "## - Lotka-Volterra Model\n",
    "###  2 Species Model\n",
    "\\begin{align*}\n",
    "\\frac{\\mathrm{d} H}{\\mathrm{d} t} &= \\alpha H - \\beta H L \\; ,\\\\\n",
    "\\frac{\\mathrm{d} L}{\\mathrm{d} t} &= \\delta H L - \\gamma L \\; ,\n",
    "\\end{align*}\n",
    "where $H$ and $L$ represent the number of hare and lynx respectively, and $\\alpha$, $\\beta$, $\\gamma$ and $\\delta$ are positive real parameters.\n"
   ]
  },
  {
   "cell_type": "code",
   "execution_count": null,
   "id": "051d4a17",
   "metadata": {},
   "outputs": [],
   "source": []
  },
  {
   "cell_type": "markdown",
   "id": "e8a0c9d4",
   "metadata": {},
   "source": [
    "### Finding Equilibrium Points and Analysing System's Stability \n"
   ]
  },
  {
   "cell_type": "code",
   "execution_count": null,
   "id": "2ffb58d7",
   "metadata": {},
   "outputs": [],
   "source": []
  },
  {
   "cell_type": "markdown",
   "id": "744d898d",
   "metadata": {},
   "source": [
    "### Discretising the Model"
   ]
  },
  {
   "cell_type": "code",
   "execution_count": null,
   "id": "e1213542",
   "metadata": {},
   "outputs": [],
   "source": []
  },
  {
   "cell_type": "markdown",
   "id": "a374990a",
   "metadata": {},
   "source": [
    "###  3 Species Model\n",
    "\\begin{align*}\n",
    "\\frac{\\mathrm{d} H}{\\mathrm{d} t} &= \\alpha H - \\beta H L \\; ,\\\\\n",
    "\\frac{\\mathrm{d} L}{\\mathrm{d} t} &= +\\delta H L - \\gamma L - \\epsilon L W \\; ,\\\\\n",
    "\\frac{\\mathrm{d} W}{\\mathrm{d} t} &= -\\eta W + \\rho L W \\; ,\n",
    "\\end{align*}\n",
    "where $H$, $L$ and $W$ represent the number of hare, lynx and wolf respectively, and $\\alpha$, $\\beta$, $\\gamma$, $\\delta$, $\\epsilon$, $\\eta$ and $\\rho$ are positive real parameters."
   ]
  },
  {
   "cell_type": "code",
   "execution_count": null,
   "id": "ee3149ba",
   "metadata": {},
   "outputs": [],
   "source": []
  }
 ],
 "metadata": {
  "kernelspec": {
   "display_name": "Python 3",
   "language": "python",
   "name": "python3"
  },
  "language_info": {
   "codemirror_mode": {
    "name": "ipython",
    "version": 3
   },
   "file_extension": ".py",
   "mimetype": "text/x-python",
   "name": "python",
   "nbconvert_exporter": "python",
   "pygments_lexer": "ipython3",
   "version": "3.8.8"
  }
 },
 "nbformat": 4,
 "nbformat_minor": 5
}
